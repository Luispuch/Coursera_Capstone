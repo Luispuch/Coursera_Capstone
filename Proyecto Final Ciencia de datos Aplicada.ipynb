{
 "cells": [
  {
   "cell_type": "markdown",
   "id": "2790fd4a",
   "metadata": {},
   "source": [
    "# Proyecto Final \n",
    "Este jupyternotebook se utilizará para el proyecto final de la certificación en ciencia de datos de IBM"
   ]
  },
  {
   "cell_type": "code",
   "execution_count": 1,
   "id": "6a2f8b1b",
   "metadata": {},
   "outputs": [],
   "source": [
    "import pandas as pd\n",
    "import numpy as np"
   ]
  },
  {
   "cell_type": "code",
   "execution_count": 2,
   "id": "ca070578",
   "metadata": {},
   "outputs": [
    {
     "name": "stdout",
     "output_type": "stream",
     "text": [
      "¡Hola, Proyecto Final del Curso!\n"
     ]
    }
   ],
   "source": [
    "print('¡Hola, Proyecto Final del Curso!')"
   ]
  }
 ],
 "metadata": {
  "kernelspec": {
   "display_name": "Python 3 (ipykernel)",
   "language": "python",
   "name": "python3"
  },
  "language_info": {
   "codemirror_mode": {
    "name": "ipython",
    "version": 3
   },
   "file_extension": ".py",
   "mimetype": "text/x-python",
   "name": "python",
   "nbconvert_exporter": "python",
   "pygments_lexer": "ipython3",
   "version": "3.9.10"
  }
 },
 "nbformat": 4,
 "nbformat_minor": 5
}
